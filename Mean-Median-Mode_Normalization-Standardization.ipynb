{
 "cells": [
  {
   "cell_type": "markdown",
   "metadata": {},
   "source": [
    "# Program 1"
   ]
  },
  {
   "cell_type": "markdown",
   "metadata": {},
   "source": [
    "### Find mean, median and mode of an array"
   ]
  },
  {
   "cell_type": "code",
   "execution_count": 18,
   "metadata": {},
   "outputs": [
    {
     "name": "stdout",
     "output_type": "stream",
     "text": [
      "Mean is : 6.0\n",
      "Median is : 6\n",
      "Mode is : 9\n"
     ]
    }
   ],
   "source": [
    "my_array = [1, 9, 5, 9, 4, 2, 6, 8, 9, 3, 10]\n",
    "\n",
    "def mean(arr):\n",
    "    \"\"\"\n",
    "    Returns the mean of a 1D array\n",
    "    \"\"\"\n",
    "    sum = 0\n",
    "    for num in arr:\n",
    "        sum = sum + num\n",
    "    mean = sum/len(arr)\n",
    "    return mean\n",
    "\n",
    "def median(arr):\n",
    "    \"\"\"\n",
    "    Returns the median of a 1D array\n",
    "    \"\"\"\n",
    "    median = 0 \n",
    "    sorted_array = sorted(arr)\n",
    "    if len(sorted_array) % 2 == 0:\n",
    "        median = (sorted_array[(len(sorted_array)//2)-1] + sorted_array[len(sorted_array)//2])/2\n",
    "    else:\n",
    "        median = sorted_array[len(sorted_array)//2]\n",
    "    return median\n",
    "\n",
    "def mode(arr):\n",
    "    \"\"\"\n",
    "    Returns the mode of a 1D array\n",
    "    \"\"\"\n",
    "    max_count = 0\n",
    "    for num in arr:\n",
    "        if arr.count(num) > max_count:\n",
    "            max_count = num\n",
    "    return max_count\n",
    "\n",
    "print(f'Mean is : {mean(my_array)}')\n",
    "print(f'Median is : {median(my_array)}')\n",
    "print(f'Mode is : {mode(my_array)}')"
   ]
  },
  {
   "cell_type": "markdown",
   "metadata": {},
   "source": [
    "**Confirm it using inbuilt functions**\n",
    "\n",
    "We do this using the statistics module"
   ]
  },
  {
   "cell_type": "code",
   "execution_count": 2,
   "metadata": {},
   "outputs": [
    {
     "data": {
      "text/plain": [
       "[1, 9, 5, 9, 4, 2, 6, 8, 9, 3, 10]"
      ]
     },
     "execution_count": 2,
     "metadata": {},
     "output_type": "execute_result"
    }
   ],
   "source": [
    "my_array"
   ]
  },
  {
   "cell_type": "code",
   "execution_count": 19,
   "metadata": {},
   "outputs": [
    {
     "name": "stdout",
     "output_type": "stream",
     "text": [
      "Mean is 6\n",
      "Median is 6\n",
      "Mode is 9\n"
     ]
    }
   ],
   "source": [
    "from statistics import mean, median, mode\n",
    "print(f'Mean is {mean(my_array)}')\n",
    "print(f'Median is {median(my_array)}')\n",
    "print(f'Mode is {mode(my_array)}')"
   ]
  },
  {
   "cell_type": "markdown",
   "metadata": {},
   "source": [
    "---"
   ]
  },
  {
   "cell_type": "markdown",
   "metadata": {},
   "source": [
    "## Feature scaling\n",
    "\n",
    "https://www.analyticsvidhya.com/blog/2020/04/feature-scaling-machine-learning-normalization-standardization/"
   ]
  },
  {
   "cell_type": "markdown",
   "metadata": {},
   "source": [
    "### Normalization"
   ]
  },
  {
   "cell_type": "markdown",
   "metadata": {},
   "source": [
    "The goal of normalization is to change the values of numeric columns in the dataset to a common scale, without distorting differences in the ranges of values.\n",
    "\n",
    "https://developers.google.com/machine-learning/data-prep/transform/normalization"
   ]
  },
  {
   "cell_type": "markdown",
   "metadata": {},
   "source": [
    "**Formula**"
   ]
  },
  {
   "attachments": {
    "normalization%20formula.png": {
     "image/png": "[encoded data removed]"
    }
   },
   "cell_type": "markdown",
   "metadata": {},
   "source": [
    "![normalization%20formula.png](attachment:normalization%20formula.png)"
   ]
  },
  {
   "cell_type": "code",
   "execution_count": 4,
   "metadata": {},
   "outputs": [
    {
     "data": {
      "text/plain": [
       "array([[1, 2, 3],\n",
       "       [4, 5, 6],\n",
       "       [7, 8, 9]])"
      ]
     },
     "execution_count": 4,
     "metadata": {},
     "output_type": "execute_result"
    }
   ],
   "source": [
    "import numpy as np\n",
    "array = np.array([1,2,3,4,5,6,7,8,9]).reshape(3,3)\n",
    "array"
   ]
  },
  {
   "cell_type": "code",
   "execution_count": 15,
   "metadata": {},
   "outputs": [
    {
     "data": {
      "text/plain": [
       "array([[0. , 0. , 0. ],\n",
       "       [0.5, 0.5, 0.5],\n",
       "       [1. , 1. , 1. ]])"
      ]
     },
     "execution_count": 15,
     "metadata": {},
     "output_type": "execute_result"
    }
   ],
   "source": [
    "def normalise(arr):\n",
    "    \"\"\"\n",
    "    Function that accepts a 2D array and returns a normalized one\n",
    "    \"\"\n",
    "    normalized_arr=[]\n",
    "    for row in arr:\n",
    "        for num in row:\n",
    "            normalized_arr.append((num-min(row))/(max(row)-min(row)))\n",
    "    return np.array(normalized_arr).reshape((3,3)).T\n",
    "\n",
    "normalise(array)"
   ]
  },
  {
   "cell_type": "markdown",
   "metadata": {},
   "source": [
    "**Verify the normalization**"
   ]
  },
  {
   "cell_type": "code",
   "execution_count": 8,
   "metadata": {},
   "outputs": [
    {
     "data": {
      "text/plain": [
       "array([[0. , 0. , 0. ],\n",
       "       [0.5, 0.5, 0.5],\n",
       "       [1. , 1. , 1. ]])"
      ]
     },
     "execution_count": 8,
     "metadata": {},
     "output_type": "execute_result"
    }
   ],
   "source": [
    "from sklearn.preprocessing import MinMaxScaler\n",
    "sc = MinMaxScaler()\n",
    "norm = sc.fit(array)\n",
    "norm.transform(array)"
   ]
  },
  {
   "cell_type": "code",
   "execution_count": 9,
   "metadata": {},
   "outputs": [
    {
     "data": {
      "text/plain": [
       "array([[0.26726124, 0.53452248, 0.80178373],\n",
       "       [0.45584231, 0.56980288, 0.68376346],\n",
       "       [0.50257071, 0.57436653, 0.64616234]])"
      ]
     },
     "execution_count": 9,
     "metadata": {},
     "output_type": "execute_result"
    }
   ],
   "source": [
    "from sklearn.preprocessing import Normalizer\n",
    "nm = Normalizer()\n",
    "norma = nm.fit(array)\n",
    "norma.transform(array)"
   ]
  },
  {
   "cell_type": "markdown",
   "metadata": {},
   "source": [
    "---"
   ]
  },
  {
   "cell_type": "markdown",
   "metadata": {},
   "source": [
    "### Standardization"
   ]
  },
  {
   "cell_type": "markdown",
   "metadata": {},
   "source": [
    "Standardization is another scaling technique where the values are centered around the mean with a unit standard deviation. This means that the mean of the attribute becomes zero and the resultant distribution has a unit standard deviation."
   ]
  },
  {
   "attachments": {
    "standardization%20formula.png": {
     "image/png": "[encoded data removed]"
    }
   },
   "cell_type": "markdown",
   "metadata": {},
   "source": [
    "![standardization%20formula.png](attachment:standardization%20formula.png)"
   ]
  },
  {
   "cell_type": "code",
   "execution_count": 10,
   "metadata": {},
   "outputs": [
    {
     "data": {
      "text/plain": [
       "array([[1, 2, 3],\n",
       "       [4, 5, 6],\n",
       "       [7, 8, 9]])"
      ]
     },
     "execution_count": 10,
     "metadata": {},
     "output_type": "execute_result"
    }
   ],
   "source": [
    "array"
   ]
  },
  {
   "cell_type": "code",
   "execution_count": 16,
   "metadata": {},
   "outputs": [
    {
     "data": {
      "text/plain": [
       "array([[-1., -1., -1.],\n",
       "       [ 0.,  0.,  0.],\n",
       "       [ 1.,  1.,  1.]])"
      ]
     },
     "execution_count": 16,
     "metadata": {},
     "output_type": "execute_result"
    }
   ],
   "source": [
    "from statistics import mean,stdev\n",
    "def standardise(arr):\n",
    "    \"\"\"\n",
    "    Function that accepts a 2D array and returns a standardized one\n",
    "    \"\"\"\n",
    "    stdised_arr = []\n",
    "    for row in array:\n",
    "        for num in row:\n",
    "            stdised_arr.append((num-mean(row))/stdev(row))\n",
    "    return np.array(stdised_arr).reshape(3,3).T\n",
    "\n",
    "standardise(array)"
   ]
  },
  {
   "cell_type": "markdown",
   "metadata": {},
   "source": [
    "**Verify if the array got standardized**"
   ]
  },
  {
   "cell_type": "code",
   "execution_count": 17,
   "metadata": {},
   "outputs": [
    {
     "data": {
      "text/plain": [
       "array([[-1.22474487, -1.22474487, -1.22474487],\n",
       "       [ 0.        ,  0.        ,  0.        ],\n",
       "       [ 1.22474487,  1.22474487,  1.22474487]])"
      ]
     },
     "execution_count": 17,
     "metadata": {},
     "output_type": "execute_result"
    }
   ],
   "source": [
    "from sklearn.preprocessing import StandardScaler\n",
    "sc = StandardScaler()\n",
    "std = sc.fit(array)\n",
    "std.transform(array)"
   ]
  },
  {
   "cell_type": "code",
   "execution_count": null,
   "metadata": {},
   "outputs": [],
   "source": []
  }
 ],
 "metadata": {
  "kernelspec": {
   "display_name": "Python 3",
   "language": "python",
   "name": "python3"
  },
  "language_info": {
   "codemirror_mode": {
    "name": "ipython",
    "version": 3
   },
   "file_extension": ".py",
   "mimetype": "text/x-python",
   "name": "python",
   "nbconvert_exporter": "python",
   "pygments_lexer": "ipython3",
   "version": "3.8.8"
  }
 },
 "nbformat": 4,
 "nbformat_minor": 4
}
