{
 "cells": [
  {
   "cell_type": "code",
   "execution_count": 1,
   "id": "82fdefca",
   "metadata": {},
   "outputs": [],
   "source": [
    "import numpy as np\n",
    "import pandas as pd"
   ]
  },
  {
   "cell_type": "code",
   "execution_count": 2,
   "id": "08092d17",
   "metadata": {},
   "outputs": [
    {
     "data": {
      "text/html": [
       "<div>\n",
       "<style scoped>\n",
       "    .dataframe tbody tr th:only-of-type {\n",
       "        vertical-align: middle;\n",
       "    }\n",
       "\n",
       "    .dataframe tbody tr th {\n",
       "        vertical-align: top;\n",
       "    }\n",
       "\n",
       "    .dataframe thead th {\n",
       "        text-align: right;\n",
       "    }\n",
       "</style>\n",
       "<table border=\"1\" class=\"dataframe\">\n",
       "  <thead>\n",
       "    <tr style=\"text-align: right;\">\n",
       "      <th></th>\n",
       "      <th>marks1</th>\n",
       "      <th>marks2</th>\n",
       "      <th>admitted</th>\n",
       "    </tr>\n",
       "  </thead>\n",
       "  <tbody>\n",
       "    <tr>\n",
       "      <th>0</th>\n",
       "      <td>34.623660</td>\n",
       "      <td>78.024693</td>\n",
       "      <td>0</td>\n",
       "    </tr>\n",
       "    <tr>\n",
       "      <th>1</th>\n",
       "      <td>30.286711</td>\n",
       "      <td>43.894998</td>\n",
       "      <td>0</td>\n",
       "    </tr>\n",
       "    <tr>\n",
       "      <th>2</th>\n",
       "      <td>35.847409</td>\n",
       "      <td>72.902198</td>\n",
       "      <td>0</td>\n",
       "    </tr>\n",
       "    <tr>\n",
       "      <th>3</th>\n",
       "      <td>60.182599</td>\n",
       "      <td>86.308552</td>\n",
       "      <td>1</td>\n",
       "    </tr>\n",
       "    <tr>\n",
       "      <th>4</th>\n",
       "      <td>79.032736</td>\n",
       "      <td>75.344376</td>\n",
       "      <td>1</td>\n",
       "    </tr>\n",
       "  </tbody>\n",
       "</table>\n",
       "</div>"
      ],
      "text/plain": [
       "      marks1     marks2  admitted\n",
       "0  34.623660  78.024693         0\n",
       "1  30.286711  43.894998         0\n",
       "2  35.847409  72.902198         0\n",
       "3  60.182599  86.308552         1\n",
       "4  79.032736  75.344376         1"
      ]
     },
     "execution_count": 2,
     "metadata": {},
     "output_type": "execute_result"
    }
   ],
   "source": [
    "data = pd.read_csv('Student-University.csv',names=['marks1', 'marks2', 'admitted'])\n",
    "data.head()"
   ]
  },
  {
   "cell_type": "markdown",
   "id": "97b4d945",
   "metadata": {},
   "source": [
    "logistic regression = 1/(1+e^(-y))\n",
    "\n",
    "y = b0 + b1x1 + b2x2\n",
    "\n",
    "b = b + alpha * (y – y1) * y1 * (1 – y1) * x"
   ]
  },
  {
   "cell_type": "code",
   "execution_count": 3,
   "id": "c1b4af37",
   "metadata": {},
   "outputs": [],
   "source": [
    "X = data[['marks1','marks2']]\n",
    "y = data['admitted']"
   ]
  },
  {
   "cell_type": "code",
   "execution_count": 4,
   "id": "a6edcd3e",
   "metadata": {},
   "outputs": [
    {
     "data": {
      "text/plain": [
       "((80, 2), (20, 2), (80,), (20,))"
      ]
     },
     "execution_count": 4,
     "metadata": {},
     "output_type": "execute_result"
    }
   ],
   "source": [
    "from sklearn.model_selection import train_test_split\n",
    "X_train,X_test,y_train, y_test = train_test_split(X, y, test_size = 0.2, random_state = 0 )\n",
    "X_train.shape, X_test.shape, y_train.shape, y_test.shape"
   ]
  },
  {
   "cell_type": "code",
   "execution_count": 5,
   "id": "495e1c2c",
   "metadata": {},
   "outputs": [],
   "source": [
    "b0, b1, b2 = 0.5, 0.6, 0.001\n",
    "alpha = 0.01\n",
    "epochs  = 10000\n",
    "\n",
    "x1_train = X_train.marks1.tolist()\n",
    "x2_train = X_train.marks2.tolist()\n",
    "y_train = y_train.tolist()"
   ]
  },
  {
   "cell_type": "code",
   "execution_count": 6,
   "id": "4fdfdba3",
   "metadata": {},
   "outputs": [
    {
     "data": {
      "text/plain": [
       "(list, list)"
      ]
     },
     "execution_count": 6,
     "metadata": {},
     "output_type": "execute_result"
    }
   ],
   "source": [
    "type(x1_train), type(y_train)"
   ]
  },
  {
   "cell_type": "code",
   "execution_count": 7,
   "id": "97805169",
   "metadata": {},
   "outputs": [],
   "source": [
    "for epoch in range(epochs):\n",
    "    for i in range(80):\n",
    "        eq = b0 + (b1 * x1_train[i]) + (b2 * x2_train[i])\n",
    "        yhat = 1 / (1 + np.exp(-eq))\n",
    "        b0 = b0 + alpha * (y_train[i] - yhat) * yhat * (1 - yhat) * 1.0\n",
    "        b1 = b1 + alpha * (y_train[i] - yhat) * yhat * (1 - yhat) * x1_train[i]\n",
    "        b2 = b2 + alpha * (y_train[i] - yhat) * yhat * (1 - yhat) * x2_train[i]"
   ]
  },
  {
   "cell_type": "code",
   "execution_count": 8,
   "id": "71ae7cc4",
   "metadata": {},
   "outputs": [
    {
     "data": {
      "text/plain": [
       "(0.4999977258552023, 0.5999291355477447, 0.0008772854577936603)"
      ]
     },
     "execution_count": 8,
     "metadata": {},
     "output_type": "execute_result"
    }
   ],
   "source": [
    "b0,b1,b2"
   ]
  },
  {
   "cell_type": "code",
   "execution_count": 9,
   "id": "8cb808e5",
   "metadata": {},
   "outputs": [],
   "source": [
    "x1_test = X_test.marks1.tolist()\n",
    "x2_test = X_test.marks2.tolist()\n",
    "y_test = y_test.tolist()"
   ]
  },
  {
   "cell_type": "code",
   "execution_count": 10,
   "id": "97688b80",
   "metadata": {},
   "outputs": [],
   "source": [
    "y_pred = []"
   ]
  },
  {
   "cell_type": "code",
   "execution_count": 11,
   "id": "2cc00d8c",
   "metadata": {},
   "outputs": [],
   "source": [
    "for i in range(20):\n",
    "    eq = b0 + (b1 * x1_test[i]) + (b2 * x2_test[i])\n",
    "    yhat = 1 / (1 + np.exp(-eq))\n",
    "    y_pred.append(yhat)"
   ]
  },
  {
   "cell_type": "code",
   "execution_count": 12,
   "id": "bf436e85",
   "metadata": {},
   "outputs": [
    {
     "data": {
      "text/plain": [
       "[1.0,\n",
       " 0.9999999999938309,\n",
       " 0.999999999739875,\n",
       " 0.9999999999999307,\n",
       " 1.0,\n",
       " 1.0,\n",
       " 1.0,\n",
       " 1.0,\n",
       " 0.999999999999954,\n",
       " 1.0,\n",
       " 0.9999999994184035,\n",
       " 0.999999999999998,\n",
       " 1.0,\n",
       " 1.0,\n",
       " 1.0,\n",
       " 1.0,\n",
       " 0.9999999999999605,\n",
       " 1.0,\n",
       " 0.9999999999999842,\n",
       " 1.0]"
      ]
     },
     "execution_count": 12,
     "metadata": {},
     "output_type": "execute_result"
    }
   ],
   "source": [
    "y_pred"
   ]
  },
  {
   "cell_type": "code",
   "execution_count": null,
   "id": "7c01f998",
   "metadata": {},
   "outputs": [],
   "source": []
  }
 ],
 "metadata": {
  "kernelspec": {
   "display_name": "Python 3",
   "language": "python",
   "name": "python3"
  },
  "language_info": {
   "codemirror_mode": {
    "name": "ipython",
    "version": 3
   },
   "file_extension": ".py",
   "mimetype": "text/x-python",
   "name": "python",
   "nbconvert_exporter": "python",
   "pygments_lexer": "ipython3",
   "version": "3.8.8"
  }
 },
 "nbformat": 4,
 "nbformat_minor": 5
}
